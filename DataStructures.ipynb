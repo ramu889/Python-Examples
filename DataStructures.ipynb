{
 "cells": [
  {
   "cell_type": "markdown",
   "metadata": {},
   "source": [
    "# Python Data Structures Examples \n"
   ]
  },
  {
   "cell_type": "markdown",
   "metadata": {},
   "source": [
    "Sample Data (5 elements) taken from MyGov website \n"
   ]
  },
  {
   "cell_type": "markdown",
   "metadata": {},
   "source": [
    "# List"
   ]
  },
  {
   "cell_type": "code",
   "execution_count": 1,
   "metadata": {},
   "outputs": [
    {
     "data": {
      "text/plain": [
       "['Maharashtra', 'Tamil Nadu', 'Delhi', 'Gujarat', 'Uttar Pradesh']"
      ]
     },
     "execution_count": 1,
     "metadata": {},
     "output_type": "execute_result"
    }
   ],
   "source": [
    "list1=[\"Maharashtra\",\"Tamil Nadu\",\"Delhi\",\"Gujarat\",\"Uttar Pradesh\"]\n",
    "list1"
   ]
  },
  {
   "cell_type": "code",
   "execution_count": 22,
   "metadata": {},
   "outputs": [
    {
     "data": {
      "text/plain": [
       "[180298, 94049, 89802, 33232, 24056]"
      ]
     },
     "execution_count": 22,
     "metadata": {},
     "output_type": "execute_result"
    }
   ],
   "source": [
    "list2=[180298,94049,89802,33232,24056]\n",
    "list2"
   ]
  },
  {
   "cell_type": "markdown",
   "metadata": {},
   "source": [
    "Sate wise Infected cases "
   ]
  },
  {
   "cell_type": "code",
   "execution_count": 25,
   "metadata": {},
   "outputs": [
    {
     "name": "stdout",
     "output_type": "stream",
     "text": [
      "State wise Infected personal\n",
      "Maharashtra: 180298\n",
      "Tamil Nadu: 94049\n",
      "Delhi: 89802\n",
      "Gujarat: 33232\n",
      "Uttar Pradesh: 24056\n"
     ]
    }
   ],
   "source": [
    "print(\"State wise Infected COVID19 cases\")\n",
    "for i in range(len(list1)):\n",
    " print(list1[i]+\": \"+str(list2[i]))"
   ]
  },
  {
   "cell_type": "markdown",
   "metadata": {},
   "source": [
    "# Tuple"
   ]
  },
  {
   "cell_type": "code",
   "execution_count": 19,
   "metadata": {},
   "outputs": [
    {
     "data": {
      "text/plain": [
       "('Maharashtra', 'Tamil Nadu', 'Delhi', 'Gujarat', 'Uttar Pradesh')"
      ]
     },
     "execution_count": 19,
     "metadata": {},
     "output_type": "execute_result"
    }
   ],
   "source": [
    "tuple1=(\"Maharashtra\",\"Tamil Nadu\",\"Delhi\",\"Gujarat\",\"Uttar Pradesh\")\n",
    "tuple1"
   ]
  },
  {
   "cell_type": "code",
   "execution_count": 26,
   "metadata": {},
   "outputs": [
    {
     "data": {
      "text/plain": [
       "[93154, 52926, 59992, 24030, 16629]"
      ]
     },
     "execution_count": 26,
     "metadata": {},
     "output_type": "execute_result"
    }
   ],
   "source": [
    "tuple2=[93154,52926,59992,24030,16629]\n",
    "tuple2"
   ]
  },
  {
   "cell_type": "code",
   "execution_count": 28,
   "metadata": {},
   "outputs": [
    {
     "name": "stdout",
     "output_type": "stream",
     "text": [
      "State wise Recovered personal\n",
      "Maharashtra: 93154\n",
      "Tamil Nadu: 52926\n",
      "Delhi: 59992\n",
      "Gujarat: 24030\n",
      "Uttar Pradesh: 16629\n"
     ]
    }
   ],
   "source": [
    "print(\"State wise Recovered COVID19 cases\")\n",
    "for i in range(len(tuple1)):\n",
    " print(tuple1[i]+\": \"+str(tuple2[i]))"
   ]
  },
  {
   "cell_type": "markdown",
   "metadata": {},
   "source": [
    "# Dictionary"
   ]
  },
  {
   "cell_type": "code",
   "execution_count": 32,
   "metadata": {},
   "outputs": [
    {
     "data": {
      "text/plain": [
       "{'Maharashtra': 79091,\n",
       " 'Tamil Nadu': 39589,\n",
       " 'Delhi': 27007,\n",
       " 'Gujarat': 7335,\n",
       " 'Uttar Pradesh': 6709}"
      ]
     },
     "execution_count": 32,
     "metadata": {},
     "output_type": "execute_result"
    }
   ],
   "source": [
    "Dictionary={\"Maharashtra\":79091,\"Tamil Nadu\":39589,\"Delhi\":27007,\"Gujarat\":7335,\"Uttar Pradesh\":6709}\n",
    "Dictionary"
   ]
  },
  {
   "cell_type": "code",
   "execution_count": 39,
   "metadata": {},
   "outputs": [
    {
     "name": "stdout",
     "output_type": "stream",
     "text": [
      "State wise Active COVID19 cases\n",
      "Maharashtra :  79091\n",
      "Tamil Nadu :  39589\n",
      "Delhi :  27007\n",
      "Gujarat :  7335\n",
      "Uttar Pradesh :  6709\n"
     ]
    }
   ],
   "source": [
    "print(\"State wise Active COVID19 cases\")\n",
    "for k,v in Dictionary.items():\n",
    " print(k,\": \",v)"
   ]
  }
 ],
 "metadata": {
  "kernelspec": {
   "display_name": "Python 3",
   "language": "python",
   "name": "python3"
  },
  "language_info": {
   "codemirror_mode": {
    "name": "ipython",
    "version": 3
   },
   "file_extension": ".py",
   "mimetype": "text/x-python",
   "name": "python",
   "nbconvert_exporter": "python",
   "pygments_lexer": "ipython3",
   "version": "3.7.6"
  }
 },
 "nbformat": 4,
 "nbformat_minor": 4
}
